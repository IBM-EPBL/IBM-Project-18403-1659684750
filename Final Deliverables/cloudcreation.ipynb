{
  "nbformat": 4,
  "nbformat_minor": 0,
  "metadata": {
    "colab": {
      "provenance": []
    },
    "kernelspec": {
      "name": "python3",
      "display_name": "Python 3"
    },
    "language_info": {
      "name": "python"
    }
  },
  "cells": [
    {
      "cell_type": "code",
      "source": [
        "from cloudant.client import  Cloudant\n"
      ],
      "metadata": {
        "id": "0lyWj4CFxXm2"
      },
      "execution_count": null,
      "outputs": []
    },
    {
      "cell_type": "code",
      "source": [
        "pip install cloudant\n"
      ],
      "metadata": {
        "colab": {
          "base_uri": "https://localhost:8080/"
        },
        "id": "7O8yEpmOxZb8",
        "outputId": "d7f2971d-5f6f-4245-e37c-b21390d5ebf4"
      },
      "execution_count": 2,
      "outputs": [
        {
          "output_type": "stream",
          "name": "stdout",
          "text": [
            "Looking in indexes: https://pypi.org/simple, https://us-python.pkg.dev/colab-wheels/public/simple/\n",
            "Collecting cloudant\n",
            "  Downloading cloudant-2.15.0-py3-none-any.whl (80 kB)\n",
            "\u001b[?25l\r\u001b[K     |████                            | 10 kB 22.0 MB/s eta 0:00:01\r\u001b[K     |████████▏                       | 20 kB 2.5 MB/s eta 0:00:01\r\u001b[K     |████████████▏                   | 30 kB 3.6 MB/s eta 0:00:01\r\u001b[K     |████████████████▎               | 40 kB 4.7 MB/s eta 0:00:01\r\u001b[K     |████████████████████▍           | 51 kB 5.0 MB/s eta 0:00:01\r\u001b[K     |████████████████████████▍       | 61 kB 5.8 MB/s eta 0:00:01\r\u001b[K     |████████████████████████████▌   | 71 kB 6.5 MB/s eta 0:00:01\r\u001b[K     |████████████████████████████████| 80 kB 4.6 MB/s \n",
            "\u001b[?25hRequirement already satisfied: requests<3.0.0,>=2.7.0 in /usr/local/lib/python3.7/dist-packages (from cloudant) (2.23.0)\n",
            "Requirement already satisfied: certifi>=2017.4.17 in /usr/local/lib/python3.7/dist-packages (from requests<3.0.0,>=2.7.0->cloudant) (2022.9.24)\n",
            "Requirement already satisfied: urllib3!=1.25.0,!=1.25.1,<1.26,>=1.21.1 in /usr/local/lib/python3.7/dist-packages (from requests<3.0.0,>=2.7.0->cloudant) (1.24.3)\n",
            "Requirement already satisfied: idna<3,>=2.5 in /usr/local/lib/python3.7/dist-packages (from requests<3.0.0,>=2.7.0->cloudant) (2.10)\n",
            "Requirement already satisfied: chardet<4,>=3.0.2 in /usr/local/lib/python3.7/dist-packages (from requests<3.0.0,>=2.7.0->cloudant) (3.0.4)\n",
            "Installing collected packages: cloudant\n",
            "Successfully installed cloudant-2.15.0\n"
          ]
        }
      ]
    },
    {
      "cell_type": "code",
      "source": [
        "client=Cloudant.iam('username','apikey',connect=True)\n"
      ],
      "metadata": {
        "id": "ud8GQv3PxWiL"
      },
      "execution_count": null,
      "outputs": []
    },
    {
      "cell_type": "code",
      "source": [
        "my_database=client.create_database('my_database')\n"
      ],
      "metadata": {
        "id": "UVEkKNsbxMn-"
      },
      "execution_count": null,
      "outputs": []
    }
  ]
}